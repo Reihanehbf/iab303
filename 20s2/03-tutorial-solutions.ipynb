{
 "cells": [
  {
   "cell_type": "markdown",
   "metadata": {
    "slideshow": {
     "slide_type": "slide"
    }
   },
   "source": [
    "# Module 3 - Structured Data - Tutorial\n",
    "\n",
    "In this tutorial, you will be applying the data analytics cycle using the Global Financial Crisis of 2008 as a case study.\n"
   ]
  },
  {
   "cell_type": "markdown",
   "metadata": {
    "slideshow": {
     "slide_type": "slide"
    }
   },
   "source": [
    "### [1] Motivation: The Global Financial Crisis of 2008\n",
    "\n",
    "In this tutorial, you will be applying the data analytics cycle using the Global Financial Crisis of 2008 as a case study.\n",
    "\n",
    "If you would like to know a little bit more about it, please check this video.\n",
    "\n",
    "[![IMAGE ALT TEXT HERE](https://img.youtube.com/vi/0aE7___9ZtQ/0.jpg)](https://www.youtube.com/watch?v=0aE7___9ZtQ)\n"
   ]
  },
  {
   "cell_type": "markdown",
   "metadata": {
    "slideshow": {
     "slide_type": "slide"
    }
   },
   "source": [
    "### The Analytics Process\n",
    "\n",
    "<img src=\"graphics/QDAVI_cycle_sm.png\" />\n",
    "\n",
    "\n"
   ]
  },
  {
   "cell_type": "markdown",
   "metadata": {
    "slideshow": {
     "slide_type": "slide"
    }
   },
   "source": [
    "### 1. Collecting / Loading Data\n",
    "\n",
    "The dataset that you need to analyse is in the folder 'data/House_Price_Index_2003_2018_v2.csv'\n"
   ]
  },
  {
   "cell_type": "code",
   "execution_count": 1,
   "metadata": {
    "ExecuteTime": {
     "end_time": "2020-06-16T15:58:53.637267Z",
     "start_time": "2020-06-16T15:58:52.958153Z"
    },
    "slideshow": {
     "slide_type": "fragment"
    }
   },
   "outputs": [
    {
     "data": {
      "text/html": [
       "<div>\n",
       "<style scoped>\n",
       "    .dataframe tbody tr th:only-of-type {\n",
       "        vertical-align: middle;\n",
       "    }\n",
       "\n",
       "    .dataframe tbody tr th {\n",
       "        vertical-align: top;\n",
       "    }\n",
       "\n",
       "    .dataframe thead th {\n",
       "        text-align: right;\n",
       "    }\n",
       "</style>\n",
       "<table border=\"1\" class=\"dataframe\">\n",
       "  <thead>\n",
       "    <tr style=\"text-align: right;\">\n",
       "      <th></th>\n",
       "      <th>Date</th>\n",
       "      <th>Quarter</th>\n",
       "      <th>Sweden</th>\n",
       "      <th>Spain</th>\n",
       "      <th>Portugal</th>\n",
       "      <th>Norway</th>\n",
       "      <th>Italy</th>\n",
       "      <th>Ireland</th>\n",
       "      <th>Iceland</th>\n",
       "      <th>Greece</th>\n",
       "      <th>Germany</th>\n",
       "      <th>United Kingdom</th>\n",
       "      <th>France</th>\n",
       "      <th>Netherlands</th>\n",
       "      <th>Australia</th>\n",
       "      <th>United States of America</th>\n",
       "      <th>Finland</th>\n",
       "      <th>Australia_Full</th>\n",
       "      <th>United Kingdom_Full</th>\n",
       "    </tr>\n",
       "  </thead>\n",
       "  <tbody>\n",
       "    <tr>\n",
       "      <td>0</td>\n",
       "      <td>2003</td>\n",
       "      <td>Q1</td>\n",
       "      <td>62.27</td>\n",
       "      <td>NaN</td>\n",
       "      <td>NaN</td>\n",
       "      <td>67.16</td>\n",
       "      <td>88.16</td>\n",
       "      <td>NaN</td>\n",
       "      <td>92.12</td>\n",
       "      <td>NaN</td>\n",
       "      <td>104.28</td>\n",
       "      <td>88.90</td>\n",
       "      <td>NaN</td>\n",
       "      <td>86.62</td>\n",
       "      <td>NaN</td>\n",
       "      <td>129.322333</td>\n",
       "      <td>NaN</td>\n",
       "      <td>79.00</td>\n",
       "      <td>88.90</td>\n",
       "    </tr>\n",
       "    <tr>\n",
       "      <td>1</td>\n",
       "      <td>2003</td>\n",
       "      <td>Q2</td>\n",
       "      <td>63.60</td>\n",
       "      <td>NaN</td>\n",
       "      <td>NaN</td>\n",
       "      <td>68.75</td>\n",
       "      <td>88.70</td>\n",
       "      <td>NaN</td>\n",
       "      <td>93.83</td>\n",
       "      <td>NaN</td>\n",
       "      <td>103.72</td>\n",
       "      <td>NaN</td>\n",
       "      <td>NaN</td>\n",
       "      <td>87.51</td>\n",
       "      <td>NaN</td>\n",
       "      <td>131.757333</td>\n",
       "      <td>NaN</td>\n",
       "      <td>80.00</td>\n",
       "      <td>91.07</td>\n",
       "    </tr>\n",
       "    <tr>\n",
       "      <td>2</td>\n",
       "      <td>2003</td>\n",
       "      <td>Q3</td>\n",
       "      <td>65.22</td>\n",
       "      <td>NaN</td>\n",
       "      <td>NaN</td>\n",
       "      <td>68.88</td>\n",
       "      <td>89.88</td>\n",
       "      <td>NaN</td>\n",
       "      <td>98.48</td>\n",
       "      <td>NaN</td>\n",
       "      <td>103.15</td>\n",
       "      <td>NaN</td>\n",
       "      <td>NaN</td>\n",
       "      <td>88.32</td>\n",
       "      <td>81.15</td>\n",
       "      <td>135.012667</td>\n",
       "      <td>NaN</td>\n",
       "      <td>81.15</td>\n",
       "      <td>93.41</td>\n",
       "    </tr>\n",
       "    <tr>\n",
       "      <td>3</td>\n",
       "      <td>2003</td>\n",
       "      <td>Q4</td>\n",
       "      <td>65.53</td>\n",
       "      <td>NaN</td>\n",
       "      <td>NaN</td>\n",
       "      <td>69.44</td>\n",
       "      <td>90.03</td>\n",
       "      <td>NaN</td>\n",
       "      <td>97.98</td>\n",
       "      <td>NaN</td>\n",
       "      <td>103.67</td>\n",
       "      <td>NaN</td>\n",
       "      <td>NaN</td>\n",
       "      <td>89.30</td>\n",
       "      <td>83.79</td>\n",
       "      <td>138.837333</td>\n",
       "      <td>NaN</td>\n",
       "      <td>83.79</td>\n",
       "      <td>94.80</td>\n",
       "    </tr>\n",
       "    <tr>\n",
       "      <td>4</td>\n",
       "      <td>2004</td>\n",
       "      <td>Q1</td>\n",
       "      <td>67.02</td>\n",
       "      <td>NaN</td>\n",
       "      <td>NaN</td>\n",
       "      <td>74.40</td>\n",
       "      <td>90.44</td>\n",
       "      <td>NaN</td>\n",
       "      <td>97.85</td>\n",
       "      <td>NaN</td>\n",
       "      <td>102.83</td>\n",
       "      <td>95.74</td>\n",
       "      <td>NaN</td>\n",
       "      <td>90.28</td>\n",
       "      <td>82.71</td>\n",
       "      <td>143.303667</td>\n",
       "      <td>NaN</td>\n",
       "      <td>82.71</td>\n",
       "      <td>95.74</td>\n",
       "    </tr>\n",
       "    <tr>\n",
       "      <td>...</td>\n",
       "      <td>...</td>\n",
       "      <td>...</td>\n",
       "      <td>...</td>\n",
       "      <td>...</td>\n",
       "      <td>...</td>\n",
       "      <td>...</td>\n",
       "      <td>...</td>\n",
       "      <td>...</td>\n",
       "      <td>...</td>\n",
       "      <td>...</td>\n",
       "      <td>...</td>\n",
       "      <td>...</td>\n",
       "      <td>...</td>\n",
       "      <td>...</td>\n",
       "      <td>...</td>\n",
       "      <td>...</td>\n",
       "      <td>...</td>\n",
       "      <td>...</td>\n",
       "      <td>...</td>\n",
       "    </tr>\n",
       "    <tr>\n",
       "      <td>57</td>\n",
       "      <td>2017</td>\n",
       "      <td>Q2</td>\n",
       "      <td>147.81</td>\n",
       "      <td>75.64</td>\n",
       "      <td>107.59</td>\n",
       "      <td>130.73</td>\n",
       "      <td>77.47</td>\n",
       "      <td>103.70</td>\n",
       "      <td>150.75</td>\n",
       "      <td>62.13</td>\n",
       "      <td>119.24</td>\n",
       "      <td>111.96</td>\n",
       "      <td>99.40</td>\n",
       "      <td>99.99</td>\n",
       "      <td>123.12</td>\n",
       "      <td>189.811000</td>\n",
       "      <td>109.37</td>\n",
       "      <td>123.12</td>\n",
       "      <td>111.96</td>\n",
       "    </tr>\n",
       "    <tr>\n",
       "      <td>58</td>\n",
       "      <td>2017</td>\n",
       "      <td>Q3</td>\n",
       "      <td>149.06</td>\n",
       "      <td>77.41</td>\n",
       "      <td>111.40</td>\n",
       "      <td>127.29</td>\n",
       "      <td>77.11</td>\n",
       "      <td>109.27</td>\n",
       "      <td>155.77</td>\n",
       "      <td>62.67</td>\n",
       "      <td>121.45</td>\n",
       "      <td>NaN</td>\n",
       "      <td>98.86</td>\n",
       "      <td>102.35</td>\n",
       "      <td>122.09</td>\n",
       "      <td>192.580667</td>\n",
       "      <td>108.73</td>\n",
       "      <td>122.09</td>\n",
       "      <td>113.90</td>\n",
       "    </tr>\n",
       "    <tr>\n",
       "      <td>59</td>\n",
       "      <td>2017</td>\n",
       "      <td>Q4</td>\n",
       "      <td>144.52</td>\n",
       "      <td>76.97</td>\n",
       "      <td>112.76</td>\n",
       "      <td>124.77</td>\n",
       "      <td>77.03</td>\n",
       "      <td>112.54</td>\n",
       "      <td>153.97</td>\n",
       "      <td>62.37</td>\n",
       "      <td>122.59</td>\n",
       "      <td>112.86</td>\n",
       "      <td>98.03</td>\n",
       "      <td>104.71</td>\n",
       "      <td>NaN</td>\n",
       "      <td>196.140333</td>\n",
       "      <td>108.20</td>\n",
       "      <td>122.49</td>\n",
       "      <td>112.86</td>\n",
       "    </tr>\n",
       "    <tr>\n",
       "      <td>60</td>\n",
       "      <td>2018</td>\n",
       "      <td>Q1</td>\n",
       "      <td>143.25</td>\n",
       "      <td>78.65</td>\n",
       "      <td>116.97</td>\n",
       "      <td>126.32</td>\n",
       "      <td>76.42</td>\n",
       "      <td>114.63</td>\n",
       "      <td>157.75</td>\n",
       "      <td>63.06</td>\n",
       "      <td>124.32</td>\n",
       "      <td>112.45</td>\n",
       "      <td>98.09</td>\n",
       "      <td>107.59</td>\n",
       "      <td>NaN</td>\n",
       "      <td>199.728000</td>\n",
       "      <td>108.31</td>\n",
       "      <td>121.12</td>\n",
       "      <td>112.45</td>\n",
       "    </tr>\n",
       "    <tr>\n",
       "      <td>61</td>\n",
       "      <td>2018</td>\n",
       "      <td>Q2</td>\n",
       "      <td>142.54</td>\n",
       "      <td>79.35</td>\n",
       "      <td>119.68</td>\n",
       "      <td>129.79</td>\n",
       "      <td>76.61</td>\n",
       "      <td>116.56</td>\n",
       "      <td>157.55</td>\n",
       "      <td>62.27</td>\n",
       "      <td>125.77</td>\n",
       "      <td>112.91</td>\n",
       "      <td>99.10</td>\n",
       "      <td>109.58</td>\n",
       "      <td>119.87</td>\n",
       "      <td>201.869000</td>\n",
       "      <td>110.12</td>\n",
       "      <td>119.87</td>\n",
       "      <td>112.91</td>\n",
       "    </tr>\n",
       "  </tbody>\n",
       "</table>\n",
       "<p>62 rows × 19 columns</p>\n",
       "</div>"
      ],
      "text/plain": [
       "    Date Quarter  Sweden  Spain  Portugal  Norway  Italy  Ireland  Iceland  \\\n",
       "0   2003      Q1   62.27    NaN       NaN   67.16  88.16      NaN    92.12   \n",
       "1   2003      Q2   63.60    NaN       NaN   68.75  88.70      NaN    93.83   \n",
       "2   2003      Q3   65.22    NaN       NaN   68.88  89.88      NaN    98.48   \n",
       "3   2003      Q4   65.53    NaN       NaN   69.44  90.03      NaN    97.98   \n",
       "4   2004      Q1   67.02    NaN       NaN   74.40  90.44      NaN    97.85   \n",
       "..   ...     ...     ...    ...       ...     ...    ...      ...      ...   \n",
       "57  2017      Q2  147.81  75.64    107.59  130.73  77.47   103.70   150.75   \n",
       "58  2017      Q3  149.06  77.41    111.40  127.29  77.11   109.27   155.77   \n",
       "59  2017      Q4  144.52  76.97    112.76  124.77  77.03   112.54   153.97   \n",
       "60  2018      Q1  143.25  78.65    116.97  126.32  76.42   114.63   157.75   \n",
       "61  2018      Q2  142.54  79.35    119.68  129.79  76.61   116.56   157.55   \n",
       "\n",
       "    Greece  Germany  United Kingdom  France  Netherlands  Australia  \\\n",
       "0      NaN   104.28           88.90     NaN        86.62        NaN   \n",
       "1      NaN   103.72             NaN     NaN        87.51        NaN   \n",
       "2      NaN   103.15             NaN     NaN        88.32      81.15   \n",
       "3      NaN   103.67             NaN     NaN        89.30      83.79   \n",
       "4      NaN   102.83           95.74     NaN        90.28      82.71   \n",
       "..     ...      ...             ...     ...          ...        ...   \n",
       "57   62.13   119.24          111.96   99.40        99.99     123.12   \n",
       "58   62.67   121.45             NaN   98.86       102.35     122.09   \n",
       "59   62.37   122.59          112.86   98.03       104.71        NaN   \n",
       "60   63.06   124.32          112.45   98.09       107.59        NaN   \n",
       "61   62.27   125.77          112.91   99.10       109.58     119.87   \n",
       "\n",
       "    United States of America  Finland  Australia_Full  United Kingdom_Full  \n",
       "0                 129.322333      NaN           79.00                88.90  \n",
       "1                 131.757333      NaN           80.00                91.07  \n",
       "2                 135.012667      NaN           81.15                93.41  \n",
       "3                 138.837333      NaN           83.79                94.80  \n",
       "4                 143.303667      NaN           82.71                95.74  \n",
       "..                       ...      ...             ...                  ...  \n",
       "57                189.811000   109.37          123.12               111.96  \n",
       "58                192.580667   108.73          122.09               113.90  \n",
       "59                196.140333   108.20          122.49               112.86  \n",
       "60                199.728000   108.31          121.12               112.45  \n",
       "61                201.869000   110.12          119.87               112.91  \n",
       "\n",
       "[62 rows x 19 columns]"
      ]
     },
     "execution_count": 1,
     "metadata": {},
     "output_type": "execute_result"
    }
   ],
   "source": [
    "# import the required Python libraries to process the data:\n",
    "import pandas as pd                # used for data manipulation and data analysis\n",
    "import matplotlib.pyplot as plt    # used for visualisation\n",
    "\n",
    "# specify the location and the filenae of your dataset\n",
    "file_path = \"data/financial_data_v2.csv\"\n",
    "\n",
    "# load the .csv dataset\n",
    "data = pd.read_csv(file_path)\n",
    "\n",
    "# take a look at the dataset\n",
    "data"
   ]
  },
  {
   "cell_type": "code",
   "execution_count": 2,
   "metadata": {
    "ExecuteTime": {
     "end_time": "2020-06-16T15:58:54.539984Z",
     "start_time": "2020-06-16T15:58:54.535791Z"
    }
   },
   "outputs": [
    {
     "name": "stdout",
     "output_type": "stream",
     "text": [
      "General size of the dataset: (62, 19)\n",
      "The dataset has 62 rows and 19 columns!\n"
     ]
    }
   ],
   "source": [
    "# get the dimensions of your dataset\n",
    "dimensions = data.shape\n",
    "\n",
    "print( 'General size of the dataset: ' + str( dimensions ))\n",
    "\n",
    "# extract the number of rows and columns from your data\n",
    "num_rows = dimensions[0]\n",
    "num_col  = dimensions[1]\n",
    "print('The dataset has ' + str( num_rows ) + ' rows and ' + str( num_col ) + ' columns!' )\n"
   ]
  },
  {
   "cell_type": "markdown",
   "metadata": {
    "slideshow": {
     "slide_type": "slide"
    }
   },
   "source": [
    "**QUESTION:** \n",
    "- What do the **rows** and **columns** of this dataset **represent**?\n",
    "- Is the dataset complete?\n"
   ]
  },
  {
   "cell_type": "markdown",
   "metadata": {
    "slideshow": {
     "slide_type": "subslide"
    }
   },
   "source": [
    "**ANSWER HERE**\n",
    "- **Rows** represent the **house price index** for each **quarter (date)**.\n",
    "- **Columns** represent the **house price index** for each **country**"
   ]
  },
  {
   "cell_type": "markdown",
   "metadata": {
    "slideshow": {
     "slide_type": "subslide"
    }
   },
   "source": [
    "### Clean / PreProcess\n",
    "\n",
    "We will leavet this step to be exploored in more detail in the next workshop. However, we can still make some interesting questions about this data:\n",
    "\n",
    "- Q1: What is this dataset about?\n",
    "- Q2: What are the main problems with this dataset? \n",
    "- Q3: Is the data relevant to our initial question (our Business concern)?"
   ]
  },
  {
   "cell_type": "markdown",
   "metadata": {
    "slideshow": {
     "slide_type": "subslide"
    }
   },
   "source": [
    "**ANSWER:** (Group activity)\n",
    "- Q1: This dataset contains the house price indexes of several countries around the world from 2003 - 2018\n",
    "- Q2: The dataset has missing values, which will limit our analysis\n",
    "- Q3: Yes, the data is relevant because house price indexes are an important indicator of the real estate narket, although some additional indicators could be helpful to enrich the dataset"
   ]
  },
  {
   "cell_type": "markdown",
   "metadata": {
    "slideshow": {
     "slide_type": "slide"
    }
   },
   "source": [
    "### Perform Analysis\n",
    "\n",
    "This dataset describes the **house indexes of different countries in the world**. \n",
    "\n",
    "Remeber our question: *what to expect in the next couple of years in the housing market?*\n",
    "\n",
    "This is a vague question that requires you to **explore** the dataset to get some *insights* about the data.\n",
    "\n",
    "We can start this process by asking questions:"
   ]
  },
  {
   "cell_type": "markdown",
   "metadata": {
    "slideshow": {
     "slide_type": "subslide"
    }
   },
   "source": [
    "**Question:** Which countries are in our dataset?"
   ]
  },
  {
   "cell_type": "markdown",
   "metadata": {
    "slideshow": {
     "slide_type": "fragment"
    }
   },
   "source": [
    "Maybe we can clean this more..."
   ]
  },
  {
   "cell_type": "code",
   "execution_count": 3,
   "metadata": {
    "ExecuteTime": {
     "end_time": "2020-06-16T15:58:58.717411Z",
     "start_time": "2020-06-16T15:58:58.713025Z"
    },
    "slideshow": {
     "slide_type": "fragment"
    }
   },
   "outputs": [
    {
     "name": "stdout",
     "output_type": "stream",
     "text": [
      "We have a total of 17 countries. The countries that are covered in this dataset are:\n",
      "Sweden\n",
      "Spain\n",
      "Portugal\n",
      "Norway\n",
      "Italy\n",
      "Ireland\n",
      "Iceland\n",
      "Greece\n",
      "Germany\n",
      "United Kingdom\n",
      "France\n",
      "Netherlands\n",
      "Australia\n",
      "United States of America\n",
      "Finland\n",
      "Australia_Full\n",
      "United Kingdom_Full\n"
     ]
    }
   ],
   "source": [
    "# selects data from the 2nd position of the list, until the end\n",
    "countries = data.columns[2:]\n",
    "print(\"We have a total of \" + str(len(countries)) + \" countries. The countries that are covered in this dataset are:\")\n",
    "for country in countries:   \n",
    "    print( country )      \n",
    "    "
   ]
  },
  {
   "cell_type": "markdown",
   "metadata": {
    "slideshow": {
     "slide_type": "slide"
    }
   },
   "source": [
    "**Question:** For how many years has this information been collected?"
   ]
  },
  {
   "cell_type": "code",
   "execution_count": 4,
   "metadata": {
    "ExecuteTime": {
     "end_time": "2020-06-16T15:58:59.635605Z",
     "start_time": "2020-06-16T15:58:59.631637Z"
    },
    "slideshow": {
     "slide_type": "subslide"
    }
   },
   "outputs": [
    {
     "name": "stdout",
     "output_type": "stream",
     "text": [
      "[2003 2004 2005 2006 2007 2008 2009 2010 2011 2012 2013 2014 2015 2016\n",
      " 2017 2018]\n"
     ]
    }
   ],
   "source": [
    "# instead of using the 'posiiton' of the data, we can extract it by its column name through\n",
    "# the method .loc[]\n",
    "all_dates = data.loc[:, \"Date\"].unique()\n",
    "\n",
    "print( all_dates )"
   ]
  },
  {
   "cell_type": "markdown",
   "metadata": {
    "slideshow": {
     "slide_type": "slide"
    }
   },
   "source": [
    "**QUESTION:** For how many years has this information been collected?\n",
    "\n",
    "**ANSWER?**\n",
    "- This information has been collected from 2003 to 2018 every quarter"
   ]
  },
  {
   "cell_type": "markdown",
   "metadata": {},
   "source": [
    "### Dealing with Missing Data\n",
    "\n",
    "In Pandas missing data is represented by two value:\n",
    "\n",
    "- *None*\n",
    "- *NaN (Not a Number)*\n",
    "\n",
    "Pandas treats *None* and *NaN* for indicating **missing or null values**. To facilitate this convention, there are several useful functions for **detecting** null values in Pandas DataFrame:\n",
    "\n",
    "- isnull()\n",
    "- notnull()\n"
   ]
  },
  {
   "cell_type": "markdown",
   "metadata": {},
   "source": [
    "In order to fill null values in a datasets, we use the functions *fillna()*, *dropna()* or *interpolate()*. \n",
    "\n",
    "These functions replace NaN values with some value of their own.\n",
    "\n",
    "- **fillna()** fucntion basically hard-codes a value to replace the NaN entries. It is used for simpler datasets with few missing entries (like in this lecture).\n",
    "\n",
    "- **interpolate()** function is basically used to fill NA values in the dataframe but it uses various interpolation techniques to fill the missing values rather than hard-coding the value. This method uses **statistical estimations** based on the distribution of the data. This is an advanced method that you might be interested in exploring in your tutorials or in your assignments if you are dealing with a complex dataset\n",
    "\n",
    "- **dropna()** function basically drops either a row or a column. This is usually applied for datasets where there are variables that have **too many missing entries** and it is not possible to estimate them or to hand-code them\n"
   ]
  },
  {
   "cell_type": "markdown",
   "metadata": {},
   "source": [
    "**QUESTION**\n",
    "\n",
    "What is the percentage of missing house prices in \"Australia\"?\n",
    "What about in \"United Kingdom\"?"
   ]
  },
  {
   "cell_type": "code",
   "execution_count": 5,
   "metadata": {
    "ExecuteTime": {
     "end_time": "2020-06-16T15:59:01.884403Z",
     "start_time": "2020-06-16T15:59:01.877949Z"
    }
   },
   "outputs": [
    {
     "name": "stdout",
     "output_type": "stream",
     "text": [
      "<class 'pandas.core.frame.DataFrame'>\n",
      "RangeIndex: 62 entries, 0 to 61\n",
      "Data columns (total 19 columns):\n",
      "Date                        62 non-null int64\n",
      "Quarter                     62 non-null object\n",
      "Sweden                      62 non-null float64\n",
      "Spain                       51 non-null float64\n",
      "Portugal                    42 non-null float64\n",
      "Norway                      62 non-null float64\n",
      "Italy                       62 non-null float64\n",
      "Ireland                     54 non-null float64\n",
      "Iceland                     62 non-null float64\n",
      "Greece                      50 non-null float64\n",
      "Germany                     62 non-null float64\n",
      "United Kingdom              24 non-null float64\n",
      "France                      54 non-null float64\n",
      "Netherlands                 62 non-null float64\n",
      "Australia                   42 non-null float64\n",
      "United States of America    62 non-null float64\n",
      "Finland                     54 non-null float64\n",
      "Australia_Full              62 non-null float64\n",
      "United Kingdom_Full         62 non-null float64\n",
      "dtypes: float64(17), int64(1), object(1)\n",
      "memory usage: 9.3+ KB\n"
     ]
    }
   ],
   "source": [
    "# CODE TO COMPUTE YOUR ANSWER HERE (hint: pandas info() function can be useful)\n",
    "\n",
    "data.info()\n"
   ]
  },
  {
   "cell_type": "markdown",
   "metadata": {},
   "source": [
    "**ANSWER**\n",
    "\n",
    "Australia has 42 non-null entries out of 62 entries. This represents 42/62 = 68% of the data. This means 32% of the data is missing.\n",
    "\n",
    "UK has 24 non-null entries out of 62 entries. This represents 32/62 = 52% of the data. This means 48% of the data is missing."
   ]
  },
  {
   "cell_type": "code",
   "execution_count": 6,
   "metadata": {
    "ExecuteTime": {
     "end_time": "2020-06-16T15:59:03.129299Z",
     "start_time": "2020-06-16T15:59:02.972143Z"
    }
   },
   "outputs": [
    {
     "name": "stderr",
     "output_type": "stream",
     "text": [
      "No handles with labels found to put in legend.\n"
     ]
    },
    {
     "data": {
      "image/png": "[encoded data removed]",
      "text/plain": [
       "<Figure size 432x288 with 1 Axes>"
      ]
     },
     "metadata": {
      "needs_background": "light"
     },
     "output_type": "display_data"
    }
   ],
   "source": [
    "# CREATE A NEW COLUMN IN YOUR DATAFRAME WITH THE SAME INFORMATION AS IN \"AUSTRALIA\" COLUMN \n",
    "# AND CALL IT \"AUSTRALIA_MEAN\"\n",
    "# FILL THE MISSING VALUES OF THAT COLUMN BY COMPUTING THE AVERAGE OF THE HOUSE PRICES IN THAT COLUMN\n",
    "\n",
    "data[\"Australia_Mean\"] = data[\"Australia\"]\n",
    "data[\"Australia_Mean\"].fillna( data[\"Australia_Mean\"].mean(), inplace = True )\n",
    "\n",
    "# PLOT THE HOUSE PRICE INDICES IN THE COLUMNS \"AUSTRALIA_MEAN\" AND \"AUSTRALIA_FULL\" AND COMPARE THEM\n",
    "plt.plot(data[\"Australia_Mean\"])\n",
    "plt.plot(data[\"Australia_Full\"])\n",
    "plt.ylabel('HPI')\n",
    "plt.title('Impact of estimations of missing data tecniques')\n",
    "plt.legend(bbox_to_anchor=(1.1, 1.05))\n",
    "plt.show()"
   ]
  },
  {
   "cell_type": "code",
   "execution_count": 7,
   "metadata": {
    "ExecuteTime": {
     "end_time": "2020-06-16T15:59:03.800949Z",
     "start_time": "2020-06-16T15:59:03.642955Z"
    }
   },
   "outputs": [
    {
     "name": "stderr",
     "output_type": "stream",
     "text": [
      "No handles with labels found to put in legend.\n"
     ]
    },
    {
     "data": {
      "image/png": "[encoded data removed]",
      "text/plain": [
       "<Figure size 432x288 with 1 Axes>"
      ]
     },
     "metadata": {
      "needs_background": "light"
     },
     "output_type": "display_data"
    }
   ],
   "source": [
    "# CREATE A NEW COLUMN IN YOUR DATAFRAME WITH THE SAME INFORMATION AS IN \"AUSTRALIA\" COLUMN \n",
    "# AND CALL IT \"AUSTRALIA_INTERPOLATE\"\n",
    "\n",
    "# FILL THE MISSING VALUES OF THAT COLUMN BY USING THE INTERPOLATE FUNCTION (HINT: )\n",
    "data[\"Australia_Interpolate\"] = data[\"Australia\"]\n",
    "data[\"Australia_Interpolate\"].interpolate(method ='linear', inplace=True) \n",
    "\n",
    "\n",
    "# PLOT THE HOUSE PRICE INDICES IN THE COLUMNS \"AUSTRALIA_MEAN\" AND \"AUSTRALIA_FULL\" AND COMPARE THEM\n",
    "plt.plot(data[\"Australia_Interpolate\"])\n",
    "plt.plot(data[\"Australia_Full\"])\n",
    "plt.ylabel('HPI')\n",
    "plt.title('Impact of estimations of missing data tecniques')\n",
    "plt.legend(bbox_to_anchor=(1.1, 1.05))\n",
    "plt.show()"
   ]
  },
  {
   "cell_type": "markdown",
   "metadata": {},
   "source": [
    "**Question**\n",
    "\n",
    "Discuss the impact of how different methods to deal with missing data can impact your analysis"
   ]
  },
  {
   "cell_type": "markdown",
   "metadata": {},
   "source": [
    "**For curious students (optional)**\n",
    "\n",
    "Interpolation is a way to explore different methods to estimate the distrbution of your data.\n",
    "\n",
    "The column \"United Kingdom\" has 48% of the data missing. Explore the different price estimations in that country when you use different interpolation methods. Which one approaximates the most to the real values (\"United Kingdom_Full\")?\n",
    "\n",
    "method : {‘linear’, ‘time’, ‘index’, ‘values’, ‘nearest’, ‘zero’, ‘slinear’, ‘quadratic’, ‘cubic’, ‘barycentric’, ‘krogh’, ‘polynomial’, ‘spline’, ‘piecewise_polynomial’, ‘from_derivatives’, ‘pchip’, ‘akima’}"
   ]
  },
  {
   "cell_type": "markdown",
   "metadata": {
    "slideshow": {
     "slide_type": "slide"
    }
   },
   "source": [
    "### Visualization\n",
    "\n",
    "We can try to visualize our data to get some more insights. We can plot the house price indexes of Australia from 2003 to 2018. But for that... we need to process data again...\n",
    "\n",
    "We need to eliminate the *Quarter* dimension of our data by grouping the data by Date (which represents the year). This is performed by making the **average** of the **house price indexes** of each **country** for **ALL QUARTERS** and **aggregating** the results **by year**. In Python, one can do this using the function *.groupby and the aggregation of the data is done by computing the **mean**.\n",
    "The following figure shows an example.\n",
    "\n",
    "<img src='graphics/groupBy.png' />\n"
   ]
  },
  {
   "cell_type": "code",
   "execution_count": 26,
   "metadata": {
    "ExecuteTime": {
     "end_time": "2020-06-16T16:01:33.216959Z",
     "start_time": "2020-06-16T16:01:33.209873Z"
    }
   },
   "outputs": [
    {
     "name": "stdout",
     "output_type": "stream",
     "text": [
      "The avarage house price index in Australia is 95.0171\n",
      "The avarage house price index in United Kingdom is 103.9283\n"
     ]
    }
   ],
   "source": [
    "import matplotlib.pyplot as plt\n",
    "import numpy as np\n",
    "\n",
    "# Group data records from Australia and UK by DATE in order to have data in the format:\n",
    "# 2003 price_2003\n",
    "# 2004 price_2004 ...\n",
    "# This way, we are removing the Quarter column from our representation\n",
    "AU_house_price_indx = data.groupby('Date')['Australia_Interpolate'].mean()\n",
    "UK_house_price_indx = data.groupby('Date')['United Kingdom_Full'].mean()\n",
    "\n",
    "# Compute the overall average of the house prices in Australia and in UK\n",
    "AU_house_price_indx_avg = data['Australia'].mean()\n",
    "print( 'The avarage house price index in Australia is ' + str(round(AU_house_price_indx_avg,4)) )\n",
    "\n",
    "# Compute the average of house prices for UK and represent the results as a list\n",
    "UK_house_price_indx_avg = data['United Kingdom'].mean()\n",
    "print( 'The avarage house price index in United Kingdom is ' + str(round(UK_house_price_indx_avg,4)) )\n",
    "\n",
    "# Convert to a format where you will have the average house price as a list\n",
    "# We need this for plotting reasons\n",
    "lst = np.ones(num_col - 1, float)\n",
    "AU_house_price_indx_avg = np.round( data['Australia'].mean(), 4)*lst\n",
    "UK_house_price_indx_avg = np.round( data['United Kingdom'].mean(), 4)*lst\n",
    "\n",
    "\n"
   ]
  },
  {
   "cell_type": "code",
   "execution_count": 27,
   "metadata": {
    "ExecuteTime": {
     "end_time": "2020-06-16T16:01:37.614235Z",
     "start_time": "2020-06-16T16:01:37.468996Z"
    }
   },
   "outputs": [
    {
     "data": {
      "image/png": "[encoded data removed]",
      "text/plain": [
       "<Figure size 432x288 with 1 Axes>"
      ]
     },
     "metadata": {
      "needs_background": "light"
     },
     "output_type": "display_data"
    }
   ],
   "source": [
    "plt.plot( AU_house_price_indx, label='Australia')\n",
    "plt.plot(UK_house_price_indx, label='United Kingdom_Full') # House prices per year in AU\n",
    "        # Overall average of house price indx in AU\n",
    "plt.ylabel('HPI')\n",
    "plt.title('Australia House Price Index (HPI)')\n",
    "plt.legend(bbox_to_anchor=(1.1, 1.05))\n",
    "plt.show()\n",
    "\n",
    "plt.show()"
   ]
  },
  {
   "cell_type": "markdown",
   "metadata": {},
   "source": [
    "**Question** Are there similarities between the house price indexes in UK with Australia?\n",
    "\n",
    "**ANSWER**\n",
    "\n",
    "Yes. Both countries seem to display some patterns:\n",
    "- the house price indexes on both countries tend to mimic after 2010. It seems there is a strong positve correlation between them. \n",
    "- before 2010, we can see small flutuations of the house price indexes in Australia. Although these flutuations tended to increase, this increase has been bellow the current expected value (average) of the house price indexes\n",
    "\n",
    "Looking at these two graphs separately turns the analysis difficult. It would be helpful to put them on the same figure in order to make a comparison"
   ]
  },
  {
   "cell_type": "code",
   "execution_count": 28,
   "metadata": {
    "ExecuteTime": {
     "end_time": "2020-06-16T16:01:38.428668Z",
     "start_time": "2020-06-16T16:01:38.297585Z"
    }
   },
   "outputs": [
    {
     "name": "stderr",
     "output_type": "stream",
     "text": [
      "No handles with labels found to put in legend.\n"
     ]
    },
    {
     "data": {
      "image/png": "[encoded data removed]",
      "text/plain": [
       "<Figure size 432x288 with 1 Axes>"
      ]
     },
     "metadata": {
      "needs_background": "light"
     },
     "output_type": "display_data"
    }
   ],
   "source": [
    "# visualize data\n",
    "plt.plot(UK_house_price_indx)\n",
    "plt.plot(AU_house_price_indx)\n",
    "plt.ylabel('HPI')\n",
    "plt.title('United Kingdom vs Australia House Price Index (HPI)')\n",
    "plt.legend(bbox_to_anchor=(1.1, 1.05))\n",
    "plt.show()"
   ]
  },
  {
   "cell_type": "code",
   "execution_count": 29,
   "metadata": {
    "ExecuteTime": {
     "end_time": "2020-06-16T16:01:38.642573Z",
     "start_time": "2020-06-16T16:01:38.638781Z"
    }
   },
   "outputs": [],
   "source": [
    "#Select UK house price indexes from 2003 - 2010\n",
    "UK_house_price_03_10 = UK_house_price_indx[0:8] \n",
    "#Select UK house price indexes from 2003 - 2010\n",
    "UK_house_price_08_18 = UK_house_price_indx[6:]  \n",
    "\n",
    "#Select AU house price indexes from 2003 - 2010\n",
    "AU_house_price_03_10 = AU_house_price_indx[0:8]  \n",
    "#Select AU house price indexes from 2008 - 2018\n",
    "AU_house_price_08_18 = AU_house_price_indx[6:] \n"
   ]
  },
  {
   "cell_type": "code",
   "execution_count": 30,
   "metadata": {
    "ExecuteTime": {
     "end_time": "2020-06-16T16:01:39.266440Z",
     "start_time": "2020-06-16T16:01:39.006697Z"
    }
   },
   "outputs": [
    {
     "name": "stderr",
     "output_type": "stream",
     "text": [
      "No handles with labels found to put in legend.\n"
     ]
    },
    {
     "data": {
      "image/png": "[encoded data removed]",
      "text/plain": [
       "<Figure size 432x288 with 1 Axes>"
      ]
     },
     "metadata": {
      "needs_background": "light"
     },
     "output_type": "display_data"
    },
    {
     "name": "stderr",
     "output_type": "stream",
     "text": [
      "No handles with labels found to put in legend.\n"
     ]
    },
    {
     "data": {
      "image/png": "[encoded data removed]",
      "text/plain": [
       "<Figure size 432x288 with 1 Axes>"
      ]
     },
     "metadata": {
      "needs_background": "light"
     },
     "output_type": "display_data"
    }
   ],
   "source": [
    "# visualize data\n",
    "plt.plot(UK_house_price_03_10)\n",
    "plt.plot(AU_house_price_03_10)\n",
    "plt.ylabel('HPI')\n",
    "plt.title('HPI UK vs AU (2003 - 2010)')\n",
    "plt.legend(bbox_to_anchor=(1.5, 1.05))\n",
    "plt.show()\n",
    "\n",
    "plt.plot(UK_house_price_08_18)\n",
    "plt.plot(AU_house_price_08_18)\n",
    "plt.ylabel('HPI')\n",
    "plt.title('HPI UK vs AU (2010 - 2018)')\n",
    "plt.legend(bbox_to_anchor=(1.1, 1.05))\n",
    "plt.show()"
   ]
  },
  {
   "cell_type": "markdown",
   "metadata": {},
   "source": [
    "**Group Activity**\n",
    "- Q1: Can you explain the exponential growth of house prices in UK between 2003 - 2007?\n",
    "- Q2: Why house prices started to drop in UK between 2007 - 2014?\n",
    "- Q3: What happened to the housing sector in Australia\n",
    "    - Q3.1. Before 2007:\n",
    "    - Q3.2. Between 2007 - 2010\n",
    "    - Q3.3. Between 2010 - 2013\n",
    "    - Q3.4. After 2014\n"
   ]
  },
  {
   "cell_type": "markdown",
   "metadata": {},
   "source": [
    "**OUTCOME OF GROUP ACTIVITY**\n",
    "- Q1:the increase in house prices was due to a set of reasons. The most impostant ones were the following:\n",
    " 1. interest rates were low. \n",
    " 2. Banks looked at the housing sector as a safe investment since it has been increasing since the 90's.\n",
    " 3. Under this premise, banks provided loans to people to buy houses, even to people with poor credit history. Even if a person could not pay back its mortgage, banks could takethe house back and put it back in the market for a higher price. These investments created a boom in the housing section and are the main reason of why the figure shows this exponential peak in UK\n",
    " \n",
    "- Q2: In 2007, interest rates started to increase, which put a bigger burden in those who had difficulties paying back their mortgage. Also, the house prices reached such a peak in price that people were no longer willing to buy a house. This factors, among others, Ttogether with forces of supply and demand, made house prices to drop. \n",
    "\n",
    "- Q3:\n",
    "    - Q3.1. The house market sector in Austraia before 2007 was statble. Small house price index fluctuations between 80 and 90. \n",
    "    - Q3.2. Again, not much volatility in the housing sector although the house price index started to slowly increae from 90 - 95.\n",
    "    - Q3.3. The house price index started to decrease as a consequence in gdp due to the recessions that was affecting many countries worldwide.\n",
    "    - Q3.4. From 2014, we can see a similar pattern to what happened to UK before the 2007 crash. House price index in Australia has been increasing exponentialy and from 2018 we are witnessing a drop. This suggests that a bubble might be affecting the housing market in Australia with serious social - economic consequences of it bursts. "
   ]
  },
  {
   "cell_type": "markdown",
   "metadata": {},
   "source": [
    "### Final Discussion ###\n",
    "What do you think it will happen in the next couple of years in the housing sector? What is the trend in Australia? Is there a pattern from past data when we compare with other countries?\n",
    "\n",
    "I guess this article from the Economist, published a couple of days after our workhop pretty much summarizes the situation:\n"
   ]
  },
  {
   "cell_type": "code",
   "execution_count": 37,
   "metadata": {
    "ExecuteTime": {
     "end_time": "2020-06-16T16:01:45.175190Z",
     "start_time": "2020-06-16T16:01:45.170974Z"
    }
   },
   "outputs": [
    {
     "data": {
      "text/html": [
       "\n",
       "        <iframe\n",
       "            width=\"700\"\n",
       "            height=\"600\"\n",
       "            src=\"https://www.economist.com/finance-and-economics/2019/03/09/prices-of-prime-properties-around-the-world-are-falling\"\n",
       "            frameborder=\"0\"\n",
       "            allowfullscreen\n",
       "        ></iframe>\n",
       "        "
      ],
      "text/plain": [
       "<IPython.lib.display.IFrame at 0x7f99a03f5090>"
      ]
     },
     "execution_count": 37,
     "metadata": {},
     "output_type": "execute_result"
    }
   ],
   "source": [
    "from IPython.display import IFrame\n",
    "\n",
    "IFrame(src='https://www.economist.com/finance-and-economics/2019/03/09/prices-of-prime-properties-around-the-world-are-falling', width=700, height=600)\n"
   ]
  },
  {
   "cell_type": "code",
   "execution_count": null,
   "metadata": {},
   "outputs": [],
   "source": []
  },
  {
   "cell_type": "code",
   "execution_count": null,
   "metadata": {},
   "outputs": [],
   "source": []
  }
 ],
 "metadata": {
  "celltoolbar": "Slideshow",
  "kernelspec": {
   "display_name": "Python 3",
   "language": "python",
   "name": "python3"
  },
  "language_info": {
   "codemirror_mode": {
    "name": "ipython",
    "version": 3
   },
   "file_extension": ".py",
   "mimetype": "text/x-python",
   "name": "python",
   "nbconvert_exporter": "python",
   "pygments_lexer": "ipython3",
   "version": "3.7.4"
  },
  "toc": {
   "base_numbering": 1,
   "nav_menu": {},
   "number_sections": true,
   "sideBar": true,
   "skip_h1_title": false,
   "title_cell": "Table of Contents",
   "title_sidebar": "Contents",
   "toc_cell": false,
   "toc_position": {},
   "toc_section_display": true,
   "toc_window_display": false
  },
  "varInspector": {
   "cols": {
    "lenName": 16,
    "lenType": 16,
    "lenVar": 40
   },
   "kernels_config": {
    "python": {
     "delete_cmd_postfix": "",
     "delete_cmd_prefix": "del ",
     "library": "var_list.py",
     "varRefreshCmd": "print(var_dic_list())"
    },
    "r": {
     "delete_cmd_postfix": ") ",
     "delete_cmd_prefix": "rm(",
     "library": "var_list.r",
     "varRefreshCmd": "cat(var_dic_list()) "
    }
   },
   "types_to_exclude": [
    "module",
    "function",
    "builtin_function_or_method",
    "instance",
    "_Feature"
   ],
   "window_display": false
  }
 },
 "nbformat": 4,
 "nbformat_minor": 2
}
